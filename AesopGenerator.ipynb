{
 "cells": [
  {
   "cell_type": "code",
   "execution_count": 1,
   "id": "9757798c",
   "metadata": {},
   "outputs": [
    {
     "name": "stdout",
     "output_type": "stream",
     "text": [
      "Requirement already satisfied: pandas in d:\\anaconda\\lib\\site-packages (1.3.4)\n",
      "Requirement already satisfied: numpy>=1.17.3 in d:\\anaconda\\lib\\site-packages (from pandas) (1.20.3)\n",
      "Requirement already satisfied: pytz>=2017.3 in d:\\anaconda\\lib\\site-packages (from pandas) (2021.3)\n",
      "Requirement already satisfied: python-dateutil>=2.7.3 in d:\\anaconda\\lib\\site-packages (from pandas) (2.8.2)\n",
      "Requirement already satisfied: six>=1.5 in d:\\anaconda\\lib\\site-packages (from python-dateutil>=2.7.3->pandas) (1.16.0)\n",
      "Requirement already satisfied: numpy in d:\\anaconda\\lib\\site-packages (1.20.3)\n",
      "Requirement already satisfied: nltk in d:\\anaconda\\lib\\site-packages (3.6.5)\n",
      "Requirement already satisfied: click in d:\\anaconda\\lib\\site-packages (from nltk) (8.0.3)\n",
      "Requirement already satisfied: joblib in d:\\anaconda\\lib\\site-packages (from nltk) (1.1.0)\n",
      "Requirement already satisfied: regex>=2021.8.3 in d:\\anaconda\\lib\\site-packages (from nltk) (2021.8.3)\n",
      "Requirement already satisfied: tqdm in d:\\anaconda\\lib\\site-packages (from nltk) (4.62.3)\n",
      "Requirement already satisfied: colorama in d:\\anaconda\\lib\\site-packages (from click->nltk) (0.4.4)\n",
      "Requirement already satisfied: sklearn in d:\\anaconda\\lib\\site-packages (0.0)\n",
      "Requirement already satisfied: scikit-learn in d:\\anaconda\\lib\\site-packages (from sklearn) (0.24.2)\n",
      "Requirement already satisfied: threadpoolctl>=2.0.0 in d:\\anaconda\\lib\\site-packages (from scikit-learn->sklearn) (2.2.0)\n",
      "Requirement already satisfied: scipy>=0.19.1 in d:\\anaconda\\lib\\site-packages (from scikit-learn->sklearn) (1.7.1)\n",
      "Requirement already satisfied: joblib>=0.11 in d:\\anaconda\\lib\\site-packages (from scikit-learn->sklearn) (1.1.0)\n",
      "Requirement already satisfied: numpy>=1.13.3 in d:\\anaconda\\lib\\site-packages (from scikit-learn->sklearn) (1.20.3)\n"
     ]
    }
   ],
   "source": [
    "#install dependencies\n",
    "!pip install pandas\n",
    "!pip install numpy\n",
    "!pip install nltk\n",
    "!pip install sklearn"
   ]
  },
  {
   "cell_type": "code",
   "execution_count": 2,
   "id": "7eaea995",
   "metadata": {},
   "outputs": [],
   "source": [
    "#import dependencies\n",
    "import pandas as pd\n",
    "import numpy as np\n",
    "import nltk\n",
    "import json\n",
    "#modules for preprocessing\n",
    "from nltk.tokenize import word_tokenize\n",
    "from nltk.stem import WordNetLemmatizer\n",
    "lemmatizer = nltk.stem.WordNetLemmatizer()\n",
    "from nltk.stem import SnowballStemmer\n",
    "stemmer = SnowballStemmer(\"english\")"
   ]
  },
  {
   "cell_type": "code",
   "execution_count": 20,
   "id": "d82723d6",
   "metadata": {},
   "outputs": [
    {
     "data": {
      "text/html": [
       "<div>\n",
       "<style scoped>\n",
       "    .dataframe tbody tr th:only-of-type {\n",
       "        vertical-align: middle;\n",
       "    }\n",
       "\n",
       "    .dataframe tbody tr th {\n",
       "        vertical-align: top;\n",
       "    }\n",
       "\n",
       "    .dataframe thead th {\n",
       "        text-align: right;\n",
       "    }\n",
       "</style>\n",
       "<table border=\"1\" class=\"dataframe\">\n",
       "  <thead>\n",
       "    <tr style=\"text-align: right;\">\n",
       "      <th></th>\n",
       "      <th>number</th>\n",
       "      <th>title</th>\n",
       "      <th>story</th>\n",
       "      <th>moral</th>\n",
       "      <th>characters</th>\n",
       "    </tr>\n",
       "  </thead>\n",
       "  <tbody>\n",
       "    <tr>\n",
       "      <th>0</th>\n",
       "      <td>01</td>\n",
       "      <td>THE WOLF AND THE KID</td>\n",
       "      <td>[There was once a little Kid whose growing hor...</td>\n",
       "      <td>Do not let anything turn you from your purpose.</td>\n",
       "      <td>[]</td>\n",
       "    </tr>\n",
       "    <tr>\n",
       "      <th>1</th>\n",
       "      <td>02</td>\n",
       "      <td>THE TORTOISE AND THE DUCKS</td>\n",
       "      <td>[The Tortoise, you know, carries his house on ...</td>\n",
       "      <td>Foolish curiosity and vanity often lead to mis...</td>\n",
       "      <td>[]</td>\n",
       "    </tr>\n",
       "    <tr>\n",
       "      <th>2</th>\n",
       "      <td>03</td>\n",
       "      <td>THE YOUNG CRAB AND HIS MOTHER</td>\n",
       "      <td>[Why in the world do you walk sideways like th...</td>\n",
       "      <td>Do not tell others how to act unless you can s...</td>\n",
       "      <td>[]</td>\n",
       "    </tr>\n",
       "    <tr>\n",
       "      <th>3</th>\n",
       "      <td>04</td>\n",
       "      <td>The Frogs and the Ox</td>\n",
       "      <td>[An Ox came down to a reedy pool to drink., As...</td>\n",
       "      <td>Do not attempt the impossible.</td>\n",
       "      <td>[]</td>\n",
       "    </tr>\n",
       "    <tr>\n",
       "      <th>4</th>\n",
       "      <td>05</td>\n",
       "      <td>The Dog, the Cock, and the Fox</td>\n",
       "      <td>[A Dog and a Cock, who were the best of friend...</td>\n",
       "      <td>Those who try to deceive may expect to be paid...</td>\n",
       "      <td>[]</td>\n",
       "    </tr>\n",
       "  </tbody>\n",
       "</table>\n",
       "</div>"
      ],
      "text/plain": [
       "  number                           title  \\\n",
       "0     01            THE WOLF AND THE KID   \n",
       "1     02      THE TORTOISE AND THE DUCKS   \n",
       "2     03   THE YOUNG CRAB AND HIS MOTHER   \n",
       "3     04            The Frogs and the Ox   \n",
       "4     05  The Dog, the Cock, and the Fox   \n",
       "\n",
       "                                               story  \\\n",
       "0  [There was once a little Kid whose growing hor...   \n",
       "1  [The Tortoise, you know, carries his house on ...   \n",
       "2  [Why in the world do you walk sideways like th...   \n",
       "3  [An Ox came down to a reedy pool to drink., As...   \n",
       "4  [A Dog and a Cock, who were the best of friend...   \n",
       "\n",
       "                                               moral characters  \n",
       "0    Do not let anything turn you from your purpose.         []  \n",
       "1  Foolish curiosity and vanity often lead to mis...         []  \n",
       "2  Do not tell others how to act unless you can s...         []  \n",
       "3                     Do not attempt the impossible.         []  \n",
       "4  Those who try to deceive may expect to be paid...         []  "
      ]
     },
     "execution_count": 20,
     "metadata": {},
     "output_type": "execute_result"
    }
   ],
   "source": [
    "#read data into dataframe\n",
    "with open('aesopFables.json') as f:\n",
    "    data = json.load(f)\n",
    "    jsonData = data[\"stories\"]\n",
    "    data = pd.DataFrame(list(jsonData))#, columns =['title', 'story', 'moral']\n",
    "data.head()"
   ]
  },
  {
   "cell_type": "code",
   "execution_count": null,
   "id": "59d64768",
   "metadata": {},
   "outputs": [],
   "source": []
  }
 ],
 "metadata": {
  "kernelspec": {
   "display_name": "Python 3 (ipykernel)",
   "language": "python",
   "name": "python3"
  },
  "language_info": {
   "codemirror_mode": {
    "name": "ipython",
    "version": 3
   },
   "file_extension": ".py",
   "mimetype": "text/x-python",
   "name": "python",
   "nbconvert_exporter": "python",
   "pygments_lexer": "ipython3",
   "version": "3.9.7"
  }
 },
 "nbformat": 4,
 "nbformat_minor": 5
}
